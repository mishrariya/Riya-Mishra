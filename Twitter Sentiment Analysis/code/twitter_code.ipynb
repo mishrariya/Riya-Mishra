{
 "cells": [
  {
   "cell_type": "code",
   "execution_count": null,
   "id": "e2a15aa9",
   "metadata": {},
   "outputs": [],
   "source": [
    "import nltk\n",
    "import pandas as pd\n",
    "import numpy as np\n",
    "import csv \n",
    "from nltk.tokenize import word_tokenize\n",
    "from nltk.corpus import stopwords\n",
    "from sklearn.feature_extraction.text import TfidfVectorizer\n",
    "from sklearn.model_selection import train_test_split\n",
    "from sklearn.linear_model import LogisticRegression\n",
    "from sklearn.metrics import accuracy_score\n",
    "\n",
    "#download required resources\n",
    "#nltk.download('punkt')\n",
    "#nltk.download('stopwords')\n",
    "\n",
    "train_data=pd.read_csv('Downloads/twitter_training_data.csv')\n",
    "test_data=pd.read_csv('Downloads/twitter_testing_data.csv')\n",
    "\n",
    "# cleaning data\n",
    "stop_words = set(stopwords.words('english'))\n",
    "\n",
    "def clean_text(text):\n",
    "    tokens = word_tokenize(text.lower())\n",
    "    cleaned_tokens = [token for token in tokens if token.isalpha() and token not in stop_words]\n",
    "    cleaned_text = ' '.join(cleaned_tokens)\n",
    "    return cleaned_text\n",
    "\n",
    "train_data['cleaned_text'] = train_data['text'].apply(clean_text)\n",
    "test_data['cleaned_text'] = test_data['text'].apply(clean_text)\n",
    "\n",
    "#tfid vectorizer\n",
    "vectorizer = TfidfVectorizer()\n",
    "X_train = vectorizer.fit_transform(train_data['cleaned_text'])\n",
    "y_train = train_data['airline_sentiment']\n",
    "\n",
    "X_test = vectorizer.transform(test_data['cleaned_text'])\n",
    "\n",
    "model = LogisticRegression(max_iter=1000)\n",
    "model.fit(X_train, y_train)\n",
    "\n",
    "y_pred = model.predict(X_test)\n",
    "\n",
    "#np.savetxt('Downloads/predictions101.csv', y_pred, delimiter=',', fmt='%s')\n",
    "y_true = test_data['airline_sentiment']\n",
    "accuracy = accuracy_score(y_true, y_pred)\n",
    "\n",
    "# Print accuracy\n",
    "print(\"Accuracy:\", accuracy)\n"
   ]
  }
 ],
 "metadata": {
  "kernelspec": {
   "display_name": "Python 3 (ipykernel)",
   "language": "python",
   "name": "python3"
  },
  "language_info": {
   "codemirror_mode": {
    "name": "ipython",
    "version": 3
   },
   "file_extension": ".py",
   "mimetype": "text/x-python",
   "name": "python",
   "nbconvert_exporter": "python",
   "pygments_lexer": "ipython3",
   "version": "3.11.1"
  }
 },
 "nbformat": 4,
 "nbformat_minor": 5
}
