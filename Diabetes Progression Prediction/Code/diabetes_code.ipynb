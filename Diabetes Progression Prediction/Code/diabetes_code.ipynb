{
 "cells": [
  {
   "cell_type": "code",
   "execution_count": 1,
   "id": "2a56fcef",
   "metadata": {},
   "outputs": [],
   "source": [
    "import numpy as np\n",
    "from sklearn.linear_model import LinearRegression\n",
    "from sklearn.metrics import r2_score\n",
    "\n",
    "train_data = np.genfromtxt('Downloads/0000000000002329_training_diabetes_x_y_train.csv', delimiter=',')\n",
    "X_train = train_data[:, :-1]  \n",
    "y_train = train_data[:, -1] \n",
    "\n",
    "model = LinearRegression()\n",
    "model.fit(X_train, y_train)\n",
    "test_data = np.genfromtxt('Downloads/0000000000002329_test_diabetes_x_test.csv', delimiter=',')\n",
    "X_test = test_data  \n",
    "y_pred = model.predict(X_test)\n",
    "\n",
    "np.savetxt('y_predictions.csv', y_pred.reshape(-1, 1), delimiter=',', fmt='%.5f')\n",
    "r2=r2_score(y_train, model.predict(X_train))\n",
    "print(r2)\n"
   ]
  }
 ],
 "metadata": {
  "kernelspec": {
   "display_name": "Python 3 (ipykernel)",
   "language": "python",
   "name": "python3"
  },
  "language_info": {
   "codemirror_mode": {
    "name": "ipython",
    "version": 3
   },
   "file_extension": ".py",
   "mimetype": "text/x-python",
   "name": "python",
   "nbconvert_exporter": "python",
   "pygments_lexer": "ipython3",
   "version": "3.11.1"
  }
 },
 "nbformat": 4,
 "nbformat_minor": 5
}
